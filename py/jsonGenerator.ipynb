{
 "cells": [
  {
   "cell_type": "code",
   "execution_count": 2,
   "metadata": {},
   "outputs": [],
   "source": [
    "import os;\n",
    "import pandas as pd"
   ]
  },
  {
   "cell_type": "code",
   "execution_count": 4,
   "metadata": {},
   "outputs": [
    {
     "ename": "IndexError",
     "evalue": "list index out of range",
     "output_type": "error",
     "traceback": [
      "\u001b[0;31m---------------------------------------------------------------------------\u001b[0m",
      "\u001b[0;31mIndexError\u001b[0m                                Traceback (most recent call last)",
      "Cell \u001b[0;32mIn [4], line 10\u001b[0m\n\u001b[1;32m      7\u001b[0m \u001b[39mfor\u001b[39;00m path \u001b[39min\u001b[39;00m os\u001b[39m.\u001b[39mlistdir(dir_path):\n\u001b[1;32m      8\u001b[0m     \u001b[39m# check if current path is a file\u001b[39;00m\n\u001b[1;32m      9\u001b[0m     \u001b[39mif\u001b[39;00m os\u001b[39m.\u001b[39mpath\u001b[39m.\u001b[39misfile(os\u001b[39m.\u001b[39mpath\u001b[39m.\u001b[39mjoin(dir_path, path)):\n\u001b[0;32m---> 10\u001b[0m         os\u001b[39m.\u001b[39mrename(\u001b[39m\"\u001b[39m\u001b[39m{}\u001b[39;00m\u001b[39m{}\u001b[39;00m\u001b[39m\"\u001b[39m\u001b[39m.\u001b[39mformat(dir_path,path), \u001b[39m\"\u001b[39m\u001b[39m{}\u001b[39;00m\u001b[39m{}\u001b[39;00m\u001b[39m\"\u001b[39m\u001b[39m.\u001b[39mformat(dir_path,path\u001b[39m.\u001b[39;49msplit(\u001b[39m\"\u001b[39;49m\u001b[39m_\u001b[39;49m\u001b[39m\"\u001b[39;49m)[\u001b[39m5\u001b[39;49m]))\n",
      "\u001b[0;31mIndexError\u001b[0m: list index out of range"
     ]
    }
   ],
   "source": [
    "# Renaming file from folder\n",
    "dir_path = \"./metaborg_five_stars_issue_1_data/\"\n",
    "# list to store files\n",
    "res = []\n",
    "\n",
    "# Iterate directory\n",
    "for path in os.listdir(dir_path):\n",
    "    # check if current path is a file\n",
    "    if os.path.isfile(os.path.join(dir_path, path)):\n",
    "        os.rename(\"{}{}\".format(dir_path,path), \"{}{}\".format(dir_path,path.split(\"_\")[5]))\n"
   ]
  },
  {
   "cell_type": "code",
   "execution_count": 5,
   "metadata": {},
   "outputs": [
    {
     "data": {
      "text/plain": [
       "0      /ipfs/QmQdyNZUmv3xLdAFz2FkvaqK2UrUXfrt19dcRRRE...\n",
       "1      /ipfs/QmSSwgA4ShPg1o9NE2MBEmXYzaXDJXdzHi8brFRe...\n",
       "2      /ipfs/Qmf9Q3mytQUHLtsuLdKGLg8qx7gVd4N3sQP6kBce...\n",
       "3      /ipfs/QmRdhK7aTTsrmYbooaSVhjJHyEbvDk6qNUNrnFES...\n",
       "4      /ipfs/QmRUeLzfZ6Dhdx8ikUZoXoGn1ayFki1Qwc5FmjXj...\n",
       "                             ...                        \n",
       "130    /ipfs/QmPhyszgAJz9oxarDG3RrTLhxVWyraTzLqfgQYeQ...\n",
       "131    /ipfs/QmU4WS1BtYKVDyhCfbSxRo87vjtDVuFC2oxJtRna...\n",
       "132    /ipfs/QmQbmXEir1FNF3ArfsRwETRML1mwr5gLpyH59aiL...\n",
       "133    /ipfs/QmRPkFBgvSaP2wwou93kVfQZvxRiVyUkKAMHSDDP...\n",
       "134    /ipfs/QmdtDge5dCPc4ZLafGNgYBs4YmmDv2EiMBG5bTiu...\n",
       "Name: content, Length: 135, dtype: object"
      ]
     },
     "execution_count": 5,
     "metadata": {},
     "output_type": "execute_result"
    }
   ],
   "source": [
    "IMAGE_URL_LIST = pd.read_csv('ipfs_raw_data.csv')[\"content\"]\n",
    "IMAGE_URL_LIST"
   ]
  },
  {
   "cell_type": "code",
   "execution_count": 6,
   "metadata": {},
   "outputs": [],
   "source": [
    "data = pd.read_csv(\"pagesDetails.csv\")"
   ]
  },
  {
   "cell_type": "code",
   "execution_count": 7,
   "metadata": {},
   "outputs": [
    {
     "name": "stdout",
     "output_type": "stream",
     "text": [
      "135\n"
     ]
    }
   ],
   "source": [
    "pages = len(data)\n",
    "maxStars = 5\n",
    "description = \"Metaborg Five Stars by Giovanni Motta\"\n",
    "external_url = \"test_url\"\n",
    "image = \"image_url\"\n",
    "name = \"Metaborg Five Stars\"\n",
    "base_url = \"https://poseidondao.mypinata.cloud\"\n",
    "\n",
    "metaDataParam = '{{ \\\n",
    "    \"description\": \"{}\",\\\n",
    "    \"external_url\": \"{}{}\",\\\n",
    "    \"image\": \"{}{}\",\\\n",
    "    \"name\": \"{} #{}/{}\",\\\n",
    "    \"attributes\": [\\\n",
    "            {{\\\n",
    "                \"trait_type\": \"Page Number\",\\\n",
    "                \"value\": \"{}/{}\"\\\n",
    "            }},\\\n",
    "            {{\\\n",
    "                \"trait_type\": \"Page Type\",\\\n",
    "                \"value\": \"{}\"\\\n",
    "            }},\\\n",
    "            {{\\\n",
    "                \"trait_type\": \"Number Of Stars\",\\\n",
    "                \"value\": \"{}/{}\"\\\n",
    "            }}\\\n",
    "            \\\n",
    "        ]\\\n",
    "    }}'\n",
    "os.mkdir(\"{}_json\".format(name))\n",
    "data = pd.read_csv(\"pagesDetails.csv\")\n",
    "print(len(IMAGE_URL_LIST))\n",
    "for i in range(0,len(IMAGE_URL_LIST)-1):\n",
    "    image = IMAGE_URL_LIST[i]\n",
    "    numPag = image[62:image.find(\".\")]\n",
    "    if int(numPag) >= 7 and int(numPag) <= 141:\n",
    "        jsonContent = metaDataParam.format(description, \n",
    "        base_url, \n",
    "        image, \n",
    "        base_url, \n",
    "        image, \n",
    "        name, \n",
    "        int(numPag) - 6, \n",
    "        pages, \n",
    "        int(numPag) - 6, \n",
    "        pages, \n",
    "        data[data[\"Numero Pagina\"] == int(numPag)][\"Tipo di Pagina\"].iloc[0],\n",
    "        data[data[\"Numero Pagina\"] == int(numPag)][\"Numero Stelle\"].iloc[0], \n",
    "        maxStars)\n",
    "        f = open(\"{}_json/{}.json\".format(name, int(numPag) - 6), \"w\")\n",
    "        f.write(jsonContent)\n",
    "        f.close()\n"
   ]
  },
  {
   "cell_type": "code",
   "execution_count": 12,
   "metadata": {},
   "outputs": [
    {
     "name": "stdout",
     "output_type": "stream",
     "text": [
      "135\n"
     ]
    }
   ],
   "source": [
    "pages = len(data)\n",
    "maxStars = 5\n",
    "description = \"Metaborg Five Stars by Giovanni Motta\"\n",
    "external_url = \"test_url\"\n",
    "image = \"image_url\"\n",
    "name = \"metaborg_five_stars_issue1_reveal_metadata\"\n",
    "image_url = \"https://poseidondao.mypinata.cloud/ipfs/QmP7rrQoyGAaTaPK1nMmdQERBcj5yBAjb9YWeEb5EfZtot/unrevealedImage.jpg\"\n",
    "metaDataParam = '{{ \\\n",
    "    \"description\": \"Unrevealed Image Metaborg Stars\",\\\n",
    "    \"external_url\": \"{}\",\\\n",
    "    \"image\": \"{}\",\\\n",
    "    \"name\": \"Unrevealed Image Metaborg Stars\"\\\n",
    "    }}'.format(image_url, image_url)\n",
    "os.mkdir(\"{}\".format(name))\n",
    "data = pd.read_csv(\"pagesDetails.csv\")\n",
    "print(len(IMAGE_URL_LIST))\n",
    "for i in range(0,len(IMAGE_URL_LIST)-1):\n",
    "    image = IMAGE_URL_LIST[i]\n",
    "    numPag = image[62:image.find(\".\")]\n",
    "    if int(numPag) >= 7 and int(numPag) <= 141:\n",
    "        f = open(\"{}/{}.json\".format(name, int(numPag) - 6), \"w\")\n",
    "        f.write(metaDataParam)\n",
    "        f.close()\n"
   ]
  },
  {
   "cell_type": "code",
   "execution_count": 101,
   "metadata": {},
   "outputs": [
    {
     "data": {
      "text/plain": [
       "'B/N'"
      ]
     },
     "execution_count": 101,
     "metadata": {},
     "output_type": "execute_result"
    }
   ],
   "source": []
  }
 ],
 "metadata": {
  "kernelspec": {
   "display_name": "Python 3.10.6 64-bit",
   "language": "python",
   "name": "python3"
  },
  "language_info": {
   "codemirror_mode": {
    "name": "ipython",
    "version": 3
   },
   "file_extension": ".py",
   "mimetype": "text/x-python",
   "name": "python",
   "nbconvert_exporter": "python",
   "pygments_lexer": "ipython3",
   "version": "3.10.6"
  },
  "orig_nbformat": 4,
  "vscode": {
   "interpreter": {
    "hash": "916dbcbb3f70747c44a77c7bcd40155683ae19c65e1c03b4aa3499c5328201f1"
   }
  }
 },
 "nbformat": 4,
 "nbformat_minor": 2
}
